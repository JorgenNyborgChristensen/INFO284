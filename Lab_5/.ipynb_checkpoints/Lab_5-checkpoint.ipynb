{
 "cells": [
  {
   "cell_type": "markdown",
   "id": "working-russia",
   "metadata": {},
   "source": [
    "### INFO 284 – Machine Learning\n",
    "### Spring 2021\n",
    "### Lab week 8 (Feb 22th – Feb 26th)\n",
    "### Linear classification and SVM\n",
    "Linear classifiers are popular, for logistic regression and linear SVC because they are fast to learn with\n",
    "many data points, and for kernelized SVM because they are good at fitting highly non-linear data.\n",
    "\n",
    "One of the data sets we have worked with is the churn data set:\n",
    "https://www.kaggle.com/blastchar/telco-customer-churn\n",
    "\n",
    "We shall work with this data set also this week.\n",
    "Tasks:\n",
    "1. Run classifications on the churn data set with logistic regression, linear SVC, and kernelized\n",
    "SVC.\n",
    "2. Try to optimize parameters of the learning algorithms by using cross-validation\n",
    "3. Measure running times for the algorithms\n",
    "4. Compare with results from Lab 2\n",
    "5. Try out visualization techniques found in the text book. Some nice examples can be found on\n",
    "pages 56-65 and 95-103.\n",
    "6. Assess algorithms in terms of accuracy, time spent on learning and also model use, and\n",
    "understandability of final model. Which of the models would you prefer for this data set?\n",
    "What do you think you would prefer if the data set was 1,000,000 data points and not about\n",
    "7,000?"
   ]
  },
  {
   "cell_type": "markdown",
   "id": "assured-necessity",
   "metadata": {},
   "source": [
    "#### Exploratory analysis of Telco customer churn dataset using Seaborn: https://www.kaggle.com/jsaguiar/exploratory-analysis-with-seaborn"
   ]
  },
  {
   "cell_type": "markdown",
   "id": "later-parameter",
   "metadata": {},
   "source": [
    "### 1. Run classifications on the churn data set with logistic regression, linear SVC, and kernelized SVC."
   ]
  },
  {
   "cell_type": "code",
   "execution_count": null,
   "id": "harmful-saudi",
   "metadata": {},
   "outputs": [],
   "source": []
  },
  {
   "cell_type": "markdown",
   "id": "robust-conference",
   "metadata": {},
   "source": [
    "### 2. Try to optimize parameters of the learning algorithms by using cross-validation\n"
   ]
  },
  {
   "cell_type": "code",
   "execution_count": null,
   "id": "academic-heather",
   "metadata": {},
   "outputs": [],
   "source": []
  },
  {
   "cell_type": "markdown",
   "id": "through-politics",
   "metadata": {},
   "source": [
    "### 3. Measure running times for the algorithms"
   ]
  },
  {
   "cell_type": "code",
   "execution_count": null,
   "id": "familiar-opposition",
   "metadata": {},
   "outputs": [],
   "source": []
  },
  {
   "cell_type": "markdown",
   "id": "sized-broadcasting",
   "metadata": {},
   "source": [
    "### 4. Compare with results from Lab 2"
   ]
  },
  {
   "cell_type": "code",
   "execution_count": null,
   "id": "cloudy-failing",
   "metadata": {},
   "outputs": [],
   "source": []
  },
  {
   "cell_type": "markdown",
   "id": "pacific-scottish",
   "metadata": {},
   "source": [
    "### 5. Try out visualization techniques found in the text book. Some nice examples can be found on pages 56-65 and 95-103."
   ]
  },
  {
   "cell_type": "code",
   "execution_count": null,
   "id": "double-intelligence",
   "metadata": {},
   "outputs": [],
   "source": []
  },
  {
   "cell_type": "markdown",
   "id": "applied-karma",
   "metadata": {},
   "source": [
    "### 6. Assess algorithms in terms of accuracy, time spent on learning and also model use, and understandability of final model. Which of the models would you prefer for this data set? What do you think you would prefer if the data set was 1,000,000 data points and not about 7,000?"
   ]
  },
  {
   "cell_type": "code",
   "execution_count": null,
   "id": "royal-going",
   "metadata": {},
   "outputs": [],
   "source": []
  }
 ],
 "metadata": {
  "kernelspec": {
   "display_name": "Python 3",
   "language": "python",
   "name": "python3"
  },
  "language_info": {
   "codemirror_mode": {
    "name": "ipython",
    "version": 3
   },
   "file_extension": ".py",
   "mimetype": "text/x-python",
   "name": "python",
   "nbconvert_exporter": "python",
   "pygments_lexer": "ipython3",
   "version": "3.7.9"
  }
 },
 "nbformat": 4,
 "nbformat_minor": 5
}
