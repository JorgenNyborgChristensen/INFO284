{
 "cells": [
  {
   "cell_type": "markdown",
   "id": "sought-protection",
   "metadata": {},
   "source": [
    "#### INFO 284 – Machine Learning  \n",
    "#### Spring 2021 \n",
    "\n",
    "#### Lab week 9 (Mar 1st – Mar 5th) \n",
    "#### Decision trees etc. \n",
    "\n",
    " \n",
    "\n",
    "Decision trees and variants are perhaps the most popular machine learning algorithms. And in this lab we are going to work with those algorithms. \n",
    "\n",
    "The data set we are going to use is the breast cancer data found in sklearn (p. 35 in the text book). \n",
    "\n",
    "We are also going to try out grid search with cross validation to find parameters for the random forest algorithm in an automatic manner. The parameters you can work with is size of forest, and depth of tree. You find information about grid search in sections 5.2.1 – 5.2.3 \n",
    "\n",
    "Finally, you should look into the concepts of confusion matrices, found in section 5.3. Here you will also meet the concept of false positives, true positives, false negatives, and true negatives. In many domain, for example medicine, accuracy is not an ideal measure of how good a model is. You do for instance not want too many false negatives when you should predict cancer, because false negatives may lead to no treatment when there should have been one. Include in your grid search a count of false negatives as well as accuracy, and balance them to get a model that takes into consideration both aspects. Would you get the same model anyhow, or will the false negative count influence the choice of preferred model? \n",
    "\n",
    "Tasks: \n",
    "\n",
    "1. Run a single decision tree on the breast cancer dataset. What is your accuracy? What is the number of false negatives? \n",
    "\n",
    "2. Run a single random forest and gradient boosting algorithm on the dataset. What is your accuracy? What is the number of false negatives? \n",
    "\n",
    "3. Try to optimize the random forest model by using grid search with cross validation (see sections 5.2.1 – 5.2.3). \n",
    "\n",
    "4. Use accuracy as optimization criterion. In the grid search you can vary the number of trees generated, and number levels in each tree. \n",
    "\n",
    "5. In each loop of the grid search print out measured accuracy and the false negatives count. Does the number of false negatives influence what model you would choose? "
   ]
  },
  {
   "cell_type": "markdown",
   "id": "palestinian-pacific",
   "metadata": {},
   "source": [
    "### 1. Run a single decision tree on the breast cancer dataset. What is your accuracy? What is the number of false negatives? \n"
   ]
  },
  {
   "cell_type": "code",
   "execution_count": null,
   "id": "hollow-debate",
   "metadata": {},
   "outputs": [],
   "source": []
  },
  {
   "cell_type": "markdown",
   "id": "specified-bosnia",
   "metadata": {},
   "source": [
    "### 2. Run a single random forest and gradient boosting algorithm on the dataset. What is your accuracy? What is the number of false negatives? "
   ]
  },
  {
   "cell_type": "code",
   "execution_count": null,
   "id": "contemporary-corpus",
   "metadata": {},
   "outputs": [],
   "source": []
  },
  {
   "cell_type": "markdown",
   "id": "wireless-minnesota",
   "metadata": {},
   "source": [
    "### 3. Try to optimize the random forest model by using grid search with cross validation (see sections 5.2.1 – 5.2.3). \n"
   ]
  },
  {
   "cell_type": "code",
   "execution_count": null,
   "id": "alien-chance",
   "metadata": {},
   "outputs": [],
   "source": []
  },
  {
   "cell_type": "markdown",
   "id": "banner-nursing",
   "metadata": {},
   "source": [
    "### 4. Use accuracy as optimization criterion. In the grid search you can vary the number of trees generated, and number levels in each tree. \n"
   ]
  },
  {
   "cell_type": "code",
   "execution_count": null,
   "id": "special-density",
   "metadata": {},
   "outputs": [],
   "source": []
  },
  {
   "cell_type": "markdown",
   "id": "spatial-graphics",
   "metadata": {},
   "source": [
    "### 5. In each loop of the grid search print out measured accuracy and the false negatives count. Does the number of false negatives influence what model you would choose? "
   ]
  },
  {
   "cell_type": "code",
   "execution_count": null,
   "id": "impressive-survivor",
   "metadata": {},
   "outputs": [],
   "source": []
  }
 ],
 "metadata": {
  "kernelspec": {
   "display_name": "Python 3",
   "language": "python",
   "name": "python3"
  },
  "language_info": {
   "codemirror_mode": {
    "name": "ipython",
    "version": 3
   },
   "file_extension": ".py",
   "mimetype": "text/x-python",
   "name": "python",
   "nbconvert_exporter": "python",
   "pygments_lexer": "ipython3",
   "version": "3.7.9"
  }
 },
 "nbformat": 4,
 "nbformat_minor": 5
}
