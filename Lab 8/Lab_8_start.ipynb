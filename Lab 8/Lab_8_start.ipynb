{
  "nbformat": 4,
  "nbformat_minor": 5,
  "metadata": {
    "kernelspec": {
      "display_name": "Python 3",
      "language": "python",
      "name": "python3"
    },
    "language_info": {
      "codemirror_mode": {
        "name": "ipython",
        "version": 3
      },
      "file_extension": ".py",
      "mimetype": "text/x-python",
      "name": "python",
      "nbconvert_exporter": "python",
      "pygments_lexer": "ipython3",
      "version": "3.7.9"
    },
    "colab": {
      "name": "Lab_8_start.ipynb",
      "provenance": []
    },
    "accelerator": "GPU"
  },
  "cells": [
    {
      "cell_type": "markdown",
      "metadata": {
        "id": "civilian-richards"
      },
      "source": [
        "### INFO 284 – Machine Learning\n",
        "#### Spring 2021\n",
        "### Lab week 11 (Mar 15st – Mar 19th)\n",
        "Neural networks and Colab\n",
        "For practical purposes it may be useful to work with Colab to develop common python code. In\n",
        "addition to being a collaboration tool it is also a service that gives access to computing resources. In\n",
        "particular, when learning neural networks this may useful.\n",
        "So check out Colab (https://colab.research.google.com/notebooks/intro.ipynb), and use it for this\n",
        "week’s lab.\n",
        "One of the data sets we have worked with is the churn data set:\n",
        "https://www.kaggle.com/blastchar/telco-customer-churn\n",
        "We shall work with this data set also this week, but now with the use of neural networks.\n",
        "Tasks:\n",
        "1. Prepare the churn data for neural network learning (you may already have done much of this in lab 5).\n",
        "2. Test out different neural network structures using scikit’s MLPClassifier\n",
        "    * a. Vary the number of layers\n",
        "    * b. Vary the number of nodes in each layer\n",
        "    * c. Test out various activation functions\n",
        "    * d. Test out regularization (the alpha parameter in MLPClassifier allows for L2\n",
        "    regularisation of weights)"
      ],
      "id": "civilian-richards"
    },
    {
      "cell_type": "code",
      "metadata": {
        "id": "improving-wallet"
      },
      "source": [
        "import pandas as pd"
      ],
      "id": "improving-wallet",
      "execution_count": 35,
      "outputs": []
    },
    {
      "cell_type": "code",
      "metadata": {
        "id": "labeled-baltimore"
      },
      "source": [
        "pd.set_option(\"display.max_rows\", 100)\n",
        "pd.set_option(\"display.max_columns\", 100)"
      ],
      "id": "labeled-baltimore",
      "execution_count": 36,
      "outputs": []
    },
    {
      "cell_type": "markdown",
      "metadata": {
        "id": "sFfJwoV-IrSo"
      },
      "source": [
        "How to upload files to collab: https://towardsdatascience.com/3-ways-to-load-csv-files-into-colab-7c14fcbdcb92"
      ],
      "id": "sFfJwoV-IrSo"
    },
    {
      "cell_type": "code",
      "metadata": {
        "colab": {
          "resources": {
            "http://localhost:8080/nbextensions/google.colab/files.js": {
              "data": "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",
              "ok": true,
              "headers": [
                [
                  "content-type",
                  "application/javascript"
                ]
              ],
              "status": 200,
              "status_text": ""
            }
          },
          "base_uri": "https://localhost:8080/",
          "height": 73
        },
        "id": "rUl4dxIvHCvC",
        "outputId": "2a80b1d9-5b5d-4d28-d8f8-da603014ef0f"
      },
      "source": [
        "# Upload file from your computer by running this cell and pressing the \"Choose file\" button\n",
        "from google.colab import files\n",
        "uploaded = files.upload()"
      ],
      "id": "rUl4dxIvHCvC",
      "execution_count": 37,
      "outputs": [
        {
          "output_type": "display_data",
          "data": {
            "text/html": [
              "\n",
              "     <input type=\"file\" id=\"files-09f7ec62-c165-4af2-a6c7-4e13fd62265d\" name=\"files[]\" multiple disabled\n",
              "        style=\"border:none\" />\n",
              "     <output id=\"result-09f7ec62-c165-4af2-a6c7-4e13fd62265d\">\n",
              "      Upload widget is only available when the cell has been executed in the\n",
              "      current browser session. Please rerun this cell to enable.\n",
              "      </output>\n",
              "      <script src=\"/nbextensions/google.colab/files.js\"></script> "
            ],
            "text/plain": [
              "<IPython.core.display.HTML object>"
            ]
          },
          "metadata": {
            "tags": []
          }
        },
        {
          "output_type": "stream",
          "text": [
            "Saving telco.csv to telco (1).csv\n"
          ],
          "name": "stdout"
        }
      ]
    },
    {
      "cell_type": "code",
      "metadata": {
        "id": "prostate-beginning"
      },
      "source": [
        "telco = pd.read_csv('telco.csv')"
      ],
      "id": "prostate-beginning",
      "execution_count": 38,
      "outputs": []
    },
    {
      "cell_type": "code",
      "metadata": {
        "colab": {
          "base_uri": "https://localhost:8080/",
          "height": 531
        },
        "id": "looking-intermediate",
        "outputId": "5fb9ef09-32ba-415e-c70d-3e88b243a4d8"
      },
      "source": [
        "telco.head(10)"
      ],
      "id": "looking-intermediate",
      "execution_count": 39,
      "outputs": [
        {
          "output_type": "execute_result",
          "data": {
            "text/html": [
              "<div>\n",
              "<style scoped>\n",
              "    .dataframe tbody tr th:only-of-type {\n",
              "        vertical-align: middle;\n",
              "    }\n",
              "\n",
              "    .dataframe tbody tr th {\n",
              "        vertical-align: top;\n",
              "    }\n",
              "\n",
              "    .dataframe thead th {\n",
              "        text-align: right;\n",
              "    }\n",
              "</style>\n",
              "<table border=\"1\" class=\"dataframe\">\n",
              "  <thead>\n",
              "    <tr style=\"text-align: right;\">\n",
              "      <th></th>\n",
              "      <th>customerID</th>\n",
              "      <th>gender</th>\n",
              "      <th>SeniorCitizen</th>\n",
              "      <th>Partner</th>\n",
              "      <th>Dependents</th>\n",
              "      <th>tenure</th>\n",
              "      <th>PhoneService</th>\n",
              "      <th>MultipleLines</th>\n",
              "      <th>InternetService</th>\n",
              "      <th>OnlineSecurity</th>\n",
              "      <th>OnlineBackup</th>\n",
              "      <th>DeviceProtection</th>\n",
              "      <th>TechSupport</th>\n",
              "      <th>StreamingTV</th>\n",
              "      <th>StreamingMovies</th>\n",
              "      <th>Contract</th>\n",
              "      <th>PaperlessBilling</th>\n",
              "      <th>PaymentMethod</th>\n",
              "      <th>MonthlyCharges</th>\n",
              "      <th>TotalCharges</th>\n",
              "      <th>Churn</th>\n",
              "    </tr>\n",
              "  </thead>\n",
              "  <tbody>\n",
              "    <tr>\n",
              "      <th>0</th>\n",
              "      <td>7590-VHVEG</td>\n",
              "      <td>Female</td>\n",
              "      <td>0</td>\n",
              "      <td>Yes</td>\n",
              "      <td>No</td>\n",
              "      <td>1</td>\n",
              "      <td>No</td>\n",
              "      <td>No phone service</td>\n",
              "      <td>DSL</td>\n",
              "      <td>No</td>\n",
              "      <td>Yes</td>\n",
              "      <td>No</td>\n",
              "      <td>No</td>\n",
              "      <td>No</td>\n",
              "      <td>No</td>\n",
              "      <td>Month-to-month</td>\n",
              "      <td>Yes</td>\n",
              "      <td>Electronic check</td>\n",
              "      <td>29.85</td>\n",
              "      <td>29.85</td>\n",
              "      <td>No</td>\n",
              "    </tr>\n",
              "    <tr>\n",
              "      <th>1</th>\n",
              "      <td>5575-GNVDE</td>\n",
              "      <td>Male</td>\n",
              "      <td>0</td>\n",
              "      <td>No</td>\n",
              "      <td>No</td>\n",
              "      <td>34</td>\n",
              "      <td>Yes</td>\n",
              "      <td>No</td>\n",
              "      <td>DSL</td>\n",
              "      <td>Yes</td>\n",
              "      <td>No</td>\n",
              "      <td>Yes</td>\n",
              "      <td>No</td>\n",
              "      <td>No</td>\n",
              "      <td>No</td>\n",
              "      <td>One year</td>\n",
              "      <td>No</td>\n",
              "      <td>Mailed check</td>\n",
              "      <td>56.95</td>\n",
              "      <td>1889.5</td>\n",
              "      <td>No</td>\n",
              "    </tr>\n",
              "    <tr>\n",
              "      <th>2</th>\n",
              "      <td>3668-QPYBK</td>\n",
              "      <td>Male</td>\n",
              "      <td>0</td>\n",
              "      <td>No</td>\n",
              "      <td>No</td>\n",
              "      <td>2</td>\n",
              "      <td>Yes</td>\n",
              "      <td>No</td>\n",
              "      <td>DSL</td>\n",
              "      <td>Yes</td>\n",
              "      <td>Yes</td>\n",
              "      <td>No</td>\n",
              "      <td>No</td>\n",
              "      <td>No</td>\n",
              "      <td>No</td>\n",
              "      <td>Month-to-month</td>\n",
              "      <td>Yes</td>\n",
              "      <td>Mailed check</td>\n",
              "      <td>53.85</td>\n",
              "      <td>108.15</td>\n",
              "      <td>Yes</td>\n",
              "    </tr>\n",
              "    <tr>\n",
              "      <th>3</th>\n",
              "      <td>7795-CFOCW</td>\n",
              "      <td>Male</td>\n",
              "      <td>0</td>\n",
              "      <td>No</td>\n",
              "      <td>No</td>\n",
              "      <td>45</td>\n",
              "      <td>No</td>\n",
              "      <td>No phone service</td>\n",
              "      <td>DSL</td>\n",
              "      <td>Yes</td>\n",
              "      <td>No</td>\n",
              "      <td>Yes</td>\n",
              "      <td>Yes</td>\n",
              "      <td>No</td>\n",
              "      <td>No</td>\n",
              "      <td>One year</td>\n",
              "      <td>No</td>\n",
              "      <td>Bank transfer (automatic)</td>\n",
              "      <td>42.30</td>\n",
              "      <td>1840.75</td>\n",
              "      <td>No</td>\n",
              "    </tr>\n",
              "    <tr>\n",
              "      <th>4</th>\n",
              "      <td>9237-HQITU</td>\n",
              "      <td>Female</td>\n",
              "      <td>0</td>\n",
              "      <td>No</td>\n",
              "      <td>No</td>\n",
              "      <td>2</td>\n",
              "      <td>Yes</td>\n",
              "      <td>No</td>\n",
              "      <td>Fiber optic</td>\n",
              "      <td>No</td>\n",
              "      <td>No</td>\n",
              "      <td>No</td>\n",
              "      <td>No</td>\n",
              "      <td>No</td>\n",
              "      <td>No</td>\n",
              "      <td>Month-to-month</td>\n",
              "      <td>Yes</td>\n",
              "      <td>Electronic check</td>\n",
              "      <td>70.70</td>\n",
              "      <td>151.65</td>\n",
              "      <td>Yes</td>\n",
              "    </tr>\n",
              "    <tr>\n",
              "      <th>5</th>\n",
              "      <td>9305-CDSKC</td>\n",
              "      <td>Female</td>\n",
              "      <td>0</td>\n",
              "      <td>No</td>\n",
              "      <td>No</td>\n",
              "      <td>8</td>\n",
              "      <td>Yes</td>\n",
              "      <td>Yes</td>\n",
              "      <td>Fiber optic</td>\n",
              "      <td>No</td>\n",
              "      <td>No</td>\n",
              "      <td>Yes</td>\n",
              "      <td>No</td>\n",
              "      <td>Yes</td>\n",
              "      <td>Yes</td>\n",
              "      <td>Month-to-month</td>\n",
              "      <td>Yes</td>\n",
              "      <td>Electronic check</td>\n",
              "      <td>99.65</td>\n",
              "      <td>820.5</td>\n",
              "      <td>Yes</td>\n",
              "    </tr>\n",
              "    <tr>\n",
              "      <th>6</th>\n",
              "      <td>1452-KIOVK</td>\n",
              "      <td>Male</td>\n",
              "      <td>0</td>\n",
              "      <td>No</td>\n",
              "      <td>Yes</td>\n",
              "      <td>22</td>\n",
              "      <td>Yes</td>\n",
              "      <td>Yes</td>\n",
              "      <td>Fiber optic</td>\n",
              "      <td>No</td>\n",
              "      <td>Yes</td>\n",
              "      <td>No</td>\n",
              "      <td>No</td>\n",
              "      <td>Yes</td>\n",
              "      <td>No</td>\n",
              "      <td>Month-to-month</td>\n",
              "      <td>Yes</td>\n",
              "      <td>Credit card (automatic)</td>\n",
              "      <td>89.10</td>\n",
              "      <td>1949.4</td>\n",
              "      <td>No</td>\n",
              "    </tr>\n",
              "    <tr>\n",
              "      <th>7</th>\n",
              "      <td>6713-OKOMC</td>\n",
              "      <td>Female</td>\n",
              "      <td>0</td>\n",
              "      <td>No</td>\n",
              "      <td>No</td>\n",
              "      <td>10</td>\n",
              "      <td>No</td>\n",
              "      <td>No phone service</td>\n",
              "      <td>DSL</td>\n",
              "      <td>Yes</td>\n",
              "      <td>No</td>\n",
              "      <td>No</td>\n",
              "      <td>No</td>\n",
              "      <td>No</td>\n",
              "      <td>No</td>\n",
              "      <td>Month-to-month</td>\n",
              "      <td>No</td>\n",
              "      <td>Mailed check</td>\n",
              "      <td>29.75</td>\n",
              "      <td>301.9</td>\n",
              "      <td>No</td>\n",
              "    </tr>\n",
              "    <tr>\n",
              "      <th>8</th>\n",
              "      <td>7892-POOKP</td>\n",
              "      <td>Female</td>\n",
              "      <td>0</td>\n",
              "      <td>Yes</td>\n",
              "      <td>No</td>\n",
              "      <td>28</td>\n",
              "      <td>Yes</td>\n",
              "      <td>Yes</td>\n",
              "      <td>Fiber optic</td>\n",
              "      <td>No</td>\n",
              "      <td>No</td>\n",
              "      <td>Yes</td>\n",
              "      <td>Yes</td>\n",
              "      <td>Yes</td>\n",
              "      <td>Yes</td>\n",
              "      <td>Month-to-month</td>\n",
              "      <td>Yes</td>\n",
              "      <td>Electronic check</td>\n",
              "      <td>104.80</td>\n",
              "      <td>3046.05</td>\n",
              "      <td>Yes</td>\n",
              "    </tr>\n",
              "    <tr>\n",
              "      <th>9</th>\n",
              "      <td>6388-TABGU</td>\n",
              "      <td>Male</td>\n",
              "      <td>0</td>\n",
              "      <td>No</td>\n",
              "      <td>Yes</td>\n",
              "      <td>62</td>\n",
              "      <td>Yes</td>\n",
              "      <td>No</td>\n",
              "      <td>DSL</td>\n",
              "      <td>Yes</td>\n",
              "      <td>Yes</td>\n",
              "      <td>No</td>\n",
              "      <td>No</td>\n",
              "      <td>No</td>\n",
              "      <td>No</td>\n",
              "      <td>One year</td>\n",
              "      <td>No</td>\n",
              "      <td>Bank transfer (automatic)</td>\n",
              "      <td>56.15</td>\n",
              "      <td>3487.95</td>\n",
              "      <td>No</td>\n",
              "    </tr>\n",
              "  </tbody>\n",
              "</table>\n",
              "</div>"
            ],
            "text/plain": [
              "   customerID  gender  SeniorCitizen Partner Dependents  tenure PhoneService  \\\n",
              "0  7590-VHVEG  Female              0     Yes         No       1           No   \n",
              "1  5575-GNVDE    Male              0      No         No      34          Yes   \n",
              "2  3668-QPYBK    Male              0      No         No       2          Yes   \n",
              "3  7795-CFOCW    Male              0      No         No      45           No   \n",
              "4  9237-HQITU  Female              0      No         No       2          Yes   \n",
              "5  9305-CDSKC  Female              0      No         No       8          Yes   \n",
              "6  1452-KIOVK    Male              0      No        Yes      22          Yes   \n",
              "7  6713-OKOMC  Female              0      No         No      10           No   \n",
              "8  7892-POOKP  Female              0     Yes         No      28          Yes   \n",
              "9  6388-TABGU    Male              0      No        Yes      62          Yes   \n",
              "\n",
              "      MultipleLines InternetService OnlineSecurity OnlineBackup  \\\n",
              "0  No phone service             DSL             No          Yes   \n",
              "1                No             DSL            Yes           No   \n",
              "2                No             DSL            Yes          Yes   \n",
              "3  No phone service             DSL            Yes           No   \n",
              "4                No     Fiber optic             No           No   \n",
              "5               Yes     Fiber optic             No           No   \n",
              "6               Yes     Fiber optic             No          Yes   \n",
              "7  No phone service             DSL            Yes           No   \n",
              "8               Yes     Fiber optic             No           No   \n",
              "9                No             DSL            Yes          Yes   \n",
              "\n",
              "  DeviceProtection TechSupport StreamingTV StreamingMovies        Contract  \\\n",
              "0               No          No          No              No  Month-to-month   \n",
              "1              Yes          No          No              No        One year   \n",
              "2               No          No          No              No  Month-to-month   \n",
              "3              Yes         Yes          No              No        One year   \n",
              "4               No          No          No              No  Month-to-month   \n",
              "5              Yes          No         Yes             Yes  Month-to-month   \n",
              "6               No          No         Yes              No  Month-to-month   \n",
              "7               No          No          No              No  Month-to-month   \n",
              "8              Yes         Yes         Yes             Yes  Month-to-month   \n",
              "9               No          No          No              No        One year   \n",
              "\n",
              "  PaperlessBilling              PaymentMethod  MonthlyCharges TotalCharges  \\\n",
              "0              Yes           Electronic check           29.85        29.85   \n",
              "1               No               Mailed check           56.95       1889.5   \n",
              "2              Yes               Mailed check           53.85       108.15   \n",
              "3               No  Bank transfer (automatic)           42.30      1840.75   \n",
              "4              Yes           Electronic check           70.70       151.65   \n",
              "5              Yes           Electronic check           99.65        820.5   \n",
              "6              Yes    Credit card (automatic)           89.10       1949.4   \n",
              "7               No               Mailed check           29.75        301.9   \n",
              "8              Yes           Electronic check          104.80      3046.05   \n",
              "9               No  Bank transfer (automatic)           56.15      3487.95   \n",
              "\n",
              "  Churn  \n",
              "0    No  \n",
              "1    No  \n",
              "2   Yes  \n",
              "3    No  \n",
              "4   Yes  \n",
              "5   Yes  \n",
              "6    No  \n",
              "7    No  \n",
              "8   Yes  \n",
              "9    No  "
            ]
          },
          "metadata": {
            "tags": []
          },
          "execution_count": 39
        }
      ]
    },
    {
      "cell_type": "code",
      "metadata": {
        "colab": {
          "base_uri": "https://localhost:8080/"
        },
        "id": "exciting-index",
        "outputId": "b04826f6-9ba6-4518-dd29-a9024cd4e1fc"
      },
      "source": [
        "telco.info()"
      ],
      "id": "exciting-index",
      "execution_count": 40,
      "outputs": [
        {
          "output_type": "stream",
          "text": [
            "<class 'pandas.core.frame.DataFrame'>\n",
            "RangeIndex: 7043 entries, 0 to 7042\n",
            "Data columns (total 21 columns):\n",
            " #   Column            Non-Null Count  Dtype  \n",
            "---  ------            --------------  -----  \n",
            " 0   customerID        7043 non-null   object \n",
            " 1   gender            7043 non-null   object \n",
            " 2   SeniorCitizen     7043 non-null   int64  \n",
            " 3   Partner           7043 non-null   object \n",
            " 4   Dependents        7043 non-null   object \n",
            " 5   tenure            7043 non-null   int64  \n",
            " 6   PhoneService      7043 non-null   object \n",
            " 7   MultipleLines     7043 non-null   object \n",
            " 8   InternetService   7043 non-null   object \n",
            " 9   OnlineSecurity    7043 non-null   object \n",
            " 10  OnlineBackup      7043 non-null   object \n",
            " 11  DeviceProtection  7043 non-null   object \n",
            " 12  TechSupport       7043 non-null   object \n",
            " 13  StreamingTV       7043 non-null   object \n",
            " 14  StreamingMovies   7043 non-null   object \n",
            " 15  Contract          7043 non-null   object \n",
            " 16  PaperlessBilling  7043 non-null   object \n",
            " 17  PaymentMethod     7043 non-null   object \n",
            " 18  MonthlyCharges    7043 non-null   float64\n",
            " 19  TotalCharges      7043 non-null   object \n",
            " 20  Churn             7043 non-null   object \n",
            "dtypes: float64(1), int64(2), object(18)\n",
            "memory usage: 1.1+ MB\n"
          ],
          "name": "stdout"
        }
      ]
    },
    {
      "cell_type": "code",
      "metadata": {
        "colab": {
          "base_uri": "https://localhost:8080/"
        },
        "id": "bridal-eugene",
        "outputId": "9b2e3288-7dfc-4150-a335-4e86d80ec534"
      },
      "source": [
        "telco.isnull().sum()"
      ],
      "id": "bridal-eugene",
      "execution_count": 41,
      "outputs": [
        {
          "output_type": "execute_result",
          "data": {
            "text/plain": [
              "customerID          0\n",
              "gender              0\n",
              "SeniorCitizen       0\n",
              "Partner             0\n",
              "Dependents          0\n",
              "tenure              0\n",
              "PhoneService        0\n",
              "MultipleLines       0\n",
              "InternetService     0\n",
              "OnlineSecurity      0\n",
              "OnlineBackup        0\n",
              "DeviceProtection    0\n",
              "TechSupport         0\n",
              "StreamingTV         0\n",
              "StreamingMovies     0\n",
              "Contract            0\n",
              "PaperlessBilling    0\n",
              "PaymentMethod       0\n",
              "MonthlyCharges      0\n",
              "TotalCharges        0\n",
              "Churn               0\n",
              "dtype: int64"
            ]
          },
          "metadata": {
            "tags": []
          },
          "execution_count": 41
        }
      ]
    },
    {
      "cell_type": "markdown",
      "metadata": {
        "id": "criminal-threat"
      },
      "source": [
        "### Preprocessing"
      ],
      "id": "criminal-threat"
    },
    {
      "cell_type": "code",
      "metadata": {
        "id": "middle-statistics"
      },
      "source": [
        "telco.drop(\"customerID\", axis=1, inplace=True)"
      ],
      "id": "middle-statistics",
      "execution_count": 42,
      "outputs": []
    },
    {
      "cell_type": "code",
      "metadata": {
        "id": "split-daisy"
      },
      "source": [
        "telco[\"TotalCharges\"] = telco[\"TotalCharges\"].replace(' ', '')"
      ],
      "id": "split-daisy",
      "execution_count": 43,
      "outputs": []
    },
    {
      "cell_type": "code",
      "metadata": {
        "id": "later-blackjack"
      },
      "source": [
        "telco[\"TotalCharges\"] = pd.to_numeric(telco[\"TotalCharges\"])"
      ],
      "id": "later-blackjack",
      "execution_count": 44,
      "outputs": []
    },
    {
      "cell_type": "code",
      "metadata": {
        "id": "accurate-slave"
      },
      "source": [
        "telco = telco.dropna()"
      ],
      "id": "accurate-slave",
      "execution_count": 45,
      "outputs": []
    },
    {
      "cell_type": "code",
      "metadata": {
        "id": "corresponding-entertainment"
      },
      "source": [
        "telco = telco.reset_index(drop=True)"
      ],
      "id": "corresponding-entertainment",
      "execution_count": 46,
      "outputs": []
    },
    {
      "cell_type": "code",
      "metadata": {
        "id": "pretty-dialogue"
      },
      "source": [
        "# Encode target labels with value between 0 and n_classes-1.\n",
        "\n",
        "from sklearn import preprocessing\n",
        "lb = preprocessing.LabelEncoder()\n",
        "telco['Churn'] = lb.fit_transform(telco['Churn'])"
      ],
      "id": "pretty-dialogue",
      "execution_count": 47,
      "outputs": []
    },
    {
      "cell_type": "code",
      "metadata": {
        "id": "typical-digest"
      },
      "source": [
        "cat = [\"gender\", \"SeniorCitizen\", \"Partner\", \"Dependents\", \"PhoneService\",\n",
        "       \"MultipleLines\", \"InternetService\", \"OnlineSecurity\",\n",
        "       \"OnlineBackup\", \"DeviceProtection\", \"TechSupport\",\n",
        "       \"StreamingTV\", \"StreamingMovies\", \"Contract\",\n",
        "       \"PaperlessBilling\", \"PaymentMethod\"]\n",
        "\n",
        "num = [\"tenure\", \"MonthlyCharges\", \"TotalCharges\"]"
      ],
      "id": "typical-digest",
      "execution_count": 48,
      "outputs": []
    },
    {
      "cell_type": "code",
      "metadata": {
        "id": "improving-toronto"
      },
      "source": [
        "data_X = telco.loc[:, telco.columns != \"Churn\"]\n",
        "data_Y = telco[[\"Churn\"]]"
      ],
      "id": "improving-toronto",
      "execution_count": 49,
      "outputs": []
    },
    {
      "cell_type": "code",
      "metadata": {
        "id": "instrumental-nigeria"
      },
      "source": [
        "enc_df = pd.get_dummies(data_X[cat])"
      ],
      "id": "instrumental-nigeria",
      "execution_count": 50,
      "outputs": []
    },
    {
      "cell_type": "code",
      "metadata": {
        "id": "adopted-actress"
      },
      "source": [
        "from sklearn.preprocessing import StandardScaler\n",
        "\n",
        "# perform a robust scaler transform of the dataset\n",
        "ss = StandardScaler()\n",
        "ss_data = ss.fit_transform(data_X[num])\n",
        "ss_df = pd.DataFrame(ss_data, columns=['tenure', 'MonthlyCharges', 'TotalCharges'])"
      ],
      "id": "adopted-actress",
      "execution_count": 51,
      "outputs": []
    },
    {
      "cell_type": "code",
      "metadata": {
        "id": "allied-updating"
      },
      "source": [
        "data_X = pd.concat([enc_df, ss_df], axis=1)"
      ],
      "id": "allied-updating",
      "execution_count": 52,
      "outputs": []
    },
    {
      "cell_type": "code",
      "metadata": {
        "id": "buried-jamaica"
      },
      "source": [
        "data_X = data_X.reset_index()"
      ],
      "id": "buried-jamaica",
      "execution_count": 53,
      "outputs": []
    },
    {
      "cell_type": "code",
      "metadata": {
        "colab": {
          "base_uri": "https://localhost:8080/",
          "height": 249
        },
        "id": "married-douglas",
        "outputId": "2c2e3448-d1ef-40df-d49c-881af927dd18"
      },
      "source": [
        "data_X.head()"
      ],
      "id": "married-douglas",
      "execution_count": 54,
      "outputs": [
        {
          "output_type": "execute_result",
          "data": {
            "text/html": [
              "<div>\n",
              "<style scoped>\n",
              "    .dataframe tbody tr th:only-of-type {\n",
              "        vertical-align: middle;\n",
              "    }\n",
              "\n",
              "    .dataframe tbody tr th {\n",
              "        vertical-align: top;\n",
              "    }\n",
              "\n",
              "    .dataframe thead th {\n",
              "        text-align: right;\n",
              "    }\n",
              "</style>\n",
              "<table border=\"1\" class=\"dataframe\">\n",
              "  <thead>\n",
              "    <tr style=\"text-align: right;\">\n",
              "      <th></th>\n",
              "      <th>index</th>\n",
              "      <th>SeniorCitizen</th>\n",
              "      <th>gender_Female</th>\n",
              "      <th>gender_Male</th>\n",
              "      <th>Partner_No</th>\n",
              "      <th>Partner_Yes</th>\n",
              "      <th>Dependents_No</th>\n",
              "      <th>Dependents_Yes</th>\n",
              "      <th>PhoneService_No</th>\n",
              "      <th>PhoneService_Yes</th>\n",
              "      <th>MultipleLines_No</th>\n",
              "      <th>MultipleLines_No phone service</th>\n",
              "      <th>MultipleLines_Yes</th>\n",
              "      <th>InternetService_DSL</th>\n",
              "      <th>InternetService_Fiber optic</th>\n",
              "      <th>InternetService_No</th>\n",
              "      <th>OnlineSecurity_No</th>\n",
              "      <th>OnlineSecurity_No internet service</th>\n",
              "      <th>OnlineSecurity_Yes</th>\n",
              "      <th>OnlineBackup_No</th>\n",
              "      <th>OnlineBackup_No internet service</th>\n",
              "      <th>OnlineBackup_Yes</th>\n",
              "      <th>DeviceProtection_No</th>\n",
              "      <th>DeviceProtection_No internet service</th>\n",
              "      <th>DeviceProtection_Yes</th>\n",
              "      <th>TechSupport_No</th>\n",
              "      <th>TechSupport_No internet service</th>\n",
              "      <th>TechSupport_Yes</th>\n",
              "      <th>StreamingTV_No</th>\n",
              "      <th>StreamingTV_No internet service</th>\n",
              "      <th>StreamingTV_Yes</th>\n",
              "      <th>StreamingMovies_No</th>\n",
              "      <th>StreamingMovies_No internet service</th>\n",
              "      <th>StreamingMovies_Yes</th>\n",
              "      <th>Contract_Month-to-month</th>\n",
              "      <th>Contract_One year</th>\n",
              "      <th>Contract_Two year</th>\n",
              "      <th>PaperlessBilling_No</th>\n",
              "      <th>PaperlessBilling_Yes</th>\n",
              "      <th>PaymentMethod_Bank transfer (automatic)</th>\n",
              "      <th>PaymentMethod_Credit card (automatic)</th>\n",
              "      <th>PaymentMethod_Electronic check</th>\n",
              "      <th>PaymentMethod_Mailed check</th>\n",
              "      <th>tenure</th>\n",
              "      <th>MonthlyCharges</th>\n",
              "      <th>TotalCharges</th>\n",
              "    </tr>\n",
              "  </thead>\n",
              "  <tbody>\n",
              "    <tr>\n",
              "      <th>0</th>\n",
              "      <td>0</td>\n",
              "      <td>0</td>\n",
              "      <td>1</td>\n",
              "      <td>0</td>\n",
              "      <td>0</td>\n",
              "      <td>1</td>\n",
              "      <td>1</td>\n",
              "      <td>0</td>\n",
              "      <td>1</td>\n",
              "      <td>0</td>\n",
              "      <td>0</td>\n",
              "      <td>1</td>\n",
              "      <td>0</td>\n",
              "      <td>1</td>\n",
              "      <td>0</td>\n",
              "      <td>0</td>\n",
              "      <td>1</td>\n",
              "      <td>0</td>\n",
              "      <td>0</td>\n",
              "      <td>0</td>\n",
              "      <td>0</td>\n",
              "      <td>1</td>\n",
              "      <td>1</td>\n",
              "      <td>0</td>\n",
              "      <td>0</td>\n",
              "      <td>1</td>\n",
              "      <td>0</td>\n",
              "      <td>0</td>\n",
              "      <td>1</td>\n",
              "      <td>0</td>\n",
              "      <td>0</td>\n",
              "      <td>1</td>\n",
              "      <td>0</td>\n",
              "      <td>0</td>\n",
              "      <td>1</td>\n",
              "      <td>0</td>\n",
              "      <td>0</td>\n",
              "      <td>0</td>\n",
              "      <td>1</td>\n",
              "      <td>0</td>\n",
              "      <td>0</td>\n",
              "      <td>1</td>\n",
              "      <td>0</td>\n",
              "      <td>-1.280248</td>\n",
              "      <td>-1.161694</td>\n",
              "      <td>-0.994194</td>\n",
              "    </tr>\n",
              "    <tr>\n",
              "      <th>1</th>\n",
              "      <td>1</td>\n",
              "      <td>0</td>\n",
              "      <td>0</td>\n",
              "      <td>1</td>\n",
              "      <td>1</td>\n",
              "      <td>0</td>\n",
              "      <td>1</td>\n",
              "      <td>0</td>\n",
              "      <td>0</td>\n",
              "      <td>1</td>\n",
              "      <td>1</td>\n",
              "      <td>0</td>\n",
              "      <td>0</td>\n",
              "      <td>1</td>\n",
              "      <td>0</td>\n",
              "      <td>0</td>\n",
              "      <td>0</td>\n",
              "      <td>0</td>\n",
              "      <td>1</td>\n",
              "      <td>1</td>\n",
              "      <td>0</td>\n",
              "      <td>0</td>\n",
              "      <td>0</td>\n",
              "      <td>0</td>\n",
              "      <td>1</td>\n",
              "      <td>1</td>\n",
              "      <td>0</td>\n",
              "      <td>0</td>\n",
              "      <td>1</td>\n",
              "      <td>0</td>\n",
              "      <td>0</td>\n",
              "      <td>1</td>\n",
              "      <td>0</td>\n",
              "      <td>0</td>\n",
              "      <td>0</td>\n",
              "      <td>1</td>\n",
              "      <td>0</td>\n",
              "      <td>1</td>\n",
              "      <td>0</td>\n",
              "      <td>0</td>\n",
              "      <td>0</td>\n",
              "      <td>0</td>\n",
              "      <td>1</td>\n",
              "      <td>0.064303</td>\n",
              "      <td>-0.260878</td>\n",
              "      <td>-0.173740</td>\n",
              "    </tr>\n",
              "    <tr>\n",
              "      <th>2</th>\n",
              "      <td>2</td>\n",
              "      <td>0</td>\n",
              "      <td>0</td>\n",
              "      <td>1</td>\n",
              "      <td>1</td>\n",
              "      <td>0</td>\n",
              "      <td>1</td>\n",
              "      <td>0</td>\n",
              "      <td>0</td>\n",
              "      <td>1</td>\n",
              "      <td>1</td>\n",
              "      <td>0</td>\n",
              "      <td>0</td>\n",
              "      <td>1</td>\n",
              "      <td>0</td>\n",
              "      <td>0</td>\n",
              "      <td>0</td>\n",
              "      <td>0</td>\n",
              "      <td>1</td>\n",
              "      <td>0</td>\n",
              "      <td>0</td>\n",
              "      <td>1</td>\n",
              "      <td>1</td>\n",
              "      <td>0</td>\n",
              "      <td>0</td>\n",
              "      <td>1</td>\n",
              "      <td>0</td>\n",
              "      <td>0</td>\n",
              "      <td>1</td>\n",
              "      <td>0</td>\n",
              "      <td>0</td>\n",
              "      <td>1</td>\n",
              "      <td>0</td>\n",
              "      <td>0</td>\n",
              "      <td>1</td>\n",
              "      <td>0</td>\n",
              "      <td>0</td>\n",
              "      <td>0</td>\n",
              "      <td>1</td>\n",
              "      <td>0</td>\n",
              "      <td>0</td>\n",
              "      <td>0</td>\n",
              "      <td>1</td>\n",
              "      <td>-1.239504</td>\n",
              "      <td>-0.363923</td>\n",
              "      <td>-0.959649</td>\n",
              "    </tr>\n",
              "    <tr>\n",
              "      <th>3</th>\n",
              "      <td>3</td>\n",
              "      <td>0</td>\n",
              "      <td>0</td>\n",
              "      <td>1</td>\n",
              "      <td>1</td>\n",
              "      <td>0</td>\n",
              "      <td>1</td>\n",
              "      <td>0</td>\n",
              "      <td>1</td>\n",
              "      <td>0</td>\n",
              "      <td>0</td>\n",
              "      <td>1</td>\n",
              "      <td>0</td>\n",
              "      <td>1</td>\n",
              "      <td>0</td>\n",
              "      <td>0</td>\n",
              "      <td>0</td>\n",
              "      <td>0</td>\n",
              "      <td>1</td>\n",
              "      <td>1</td>\n",
              "      <td>0</td>\n",
              "      <td>0</td>\n",
              "      <td>0</td>\n",
              "      <td>0</td>\n",
              "      <td>1</td>\n",
              "      <td>0</td>\n",
              "      <td>0</td>\n",
              "      <td>1</td>\n",
              "      <td>1</td>\n",
              "      <td>0</td>\n",
              "      <td>0</td>\n",
              "      <td>1</td>\n",
              "      <td>0</td>\n",
              "      <td>0</td>\n",
              "      <td>0</td>\n",
              "      <td>1</td>\n",
              "      <td>0</td>\n",
              "      <td>1</td>\n",
              "      <td>0</td>\n",
              "      <td>1</td>\n",
              "      <td>0</td>\n",
              "      <td>0</td>\n",
              "      <td>0</td>\n",
              "      <td>0.512486</td>\n",
              "      <td>-0.747850</td>\n",
              "      <td>-0.195248</td>\n",
              "    </tr>\n",
              "    <tr>\n",
              "      <th>4</th>\n",
              "      <td>4</td>\n",
              "      <td>0</td>\n",
              "      <td>1</td>\n",
              "      <td>0</td>\n",
              "      <td>1</td>\n",
              "      <td>0</td>\n",
              "      <td>1</td>\n",
              "      <td>0</td>\n",
              "      <td>0</td>\n",
              "      <td>1</td>\n",
              "      <td>1</td>\n",
              "      <td>0</td>\n",
              "      <td>0</td>\n",
              "      <td>0</td>\n",
              "      <td>1</td>\n",
              "      <td>0</td>\n",
              "      <td>1</td>\n",
              "      <td>0</td>\n",
              "      <td>0</td>\n",
              "      <td>1</td>\n",
              "      <td>0</td>\n",
              "      <td>0</td>\n",
              "      <td>1</td>\n",
              "      <td>0</td>\n",
              "      <td>0</td>\n",
              "      <td>1</td>\n",
              "      <td>0</td>\n",
              "      <td>0</td>\n",
              "      <td>1</td>\n",
              "      <td>0</td>\n",
              "      <td>0</td>\n",
              "      <td>1</td>\n",
              "      <td>0</td>\n",
              "      <td>0</td>\n",
              "      <td>1</td>\n",
              "      <td>0</td>\n",
              "      <td>0</td>\n",
              "      <td>0</td>\n",
              "      <td>1</td>\n",
              "      <td>0</td>\n",
              "      <td>0</td>\n",
              "      <td>1</td>\n",
              "      <td>0</td>\n",
              "      <td>-1.239504</td>\n",
              "      <td>0.196178</td>\n",
              "      <td>-0.940457</td>\n",
              "    </tr>\n",
              "  </tbody>\n",
              "</table>\n",
              "</div>"
            ],
            "text/plain": [
              "   index  SeniorCitizen  gender_Female  gender_Male  Partner_No  Partner_Yes  \\\n",
              "0      0              0              1            0           0            1   \n",
              "1      1              0              0            1           1            0   \n",
              "2      2              0              0            1           1            0   \n",
              "3      3              0              0            1           1            0   \n",
              "4      4              0              1            0           1            0   \n",
              "\n",
              "   Dependents_No  Dependents_Yes  PhoneService_No  PhoneService_Yes  \\\n",
              "0              1               0                1                 0   \n",
              "1              1               0                0                 1   \n",
              "2              1               0                0                 1   \n",
              "3              1               0                1                 0   \n",
              "4              1               0                0                 1   \n",
              "\n",
              "   MultipleLines_No  MultipleLines_No phone service  MultipleLines_Yes  \\\n",
              "0                 0                               1                  0   \n",
              "1                 1                               0                  0   \n",
              "2                 1                               0                  0   \n",
              "3                 0                               1                  0   \n",
              "4                 1                               0                  0   \n",
              "\n",
              "   InternetService_DSL  InternetService_Fiber optic  InternetService_No  \\\n",
              "0                    1                            0                   0   \n",
              "1                    1                            0                   0   \n",
              "2                    1                            0                   0   \n",
              "3                    1                            0                   0   \n",
              "4                    0                            1                   0   \n",
              "\n",
              "   OnlineSecurity_No  OnlineSecurity_No internet service  OnlineSecurity_Yes  \\\n",
              "0                  1                                   0                   0   \n",
              "1                  0                                   0                   1   \n",
              "2                  0                                   0                   1   \n",
              "3                  0                                   0                   1   \n",
              "4                  1                                   0                   0   \n",
              "\n",
              "   OnlineBackup_No  OnlineBackup_No internet service  OnlineBackup_Yes  \\\n",
              "0                0                                 0                 1   \n",
              "1                1                                 0                 0   \n",
              "2                0                                 0                 1   \n",
              "3                1                                 0                 0   \n",
              "4                1                                 0                 0   \n",
              "\n",
              "   DeviceProtection_No  DeviceProtection_No internet service  \\\n",
              "0                    1                                     0   \n",
              "1                    0                                     0   \n",
              "2                    1                                     0   \n",
              "3                    0                                     0   \n",
              "4                    1                                     0   \n",
              "\n",
              "   DeviceProtection_Yes  TechSupport_No  TechSupport_No internet service  \\\n",
              "0                     0               1                                0   \n",
              "1                     1               1                                0   \n",
              "2                     0               1                                0   \n",
              "3                     1               0                                0   \n",
              "4                     0               1                                0   \n",
              "\n",
              "   TechSupport_Yes  StreamingTV_No  StreamingTV_No internet service  \\\n",
              "0                0               1                                0   \n",
              "1                0               1                                0   \n",
              "2                0               1                                0   \n",
              "3                1               1                                0   \n",
              "4                0               1                                0   \n",
              "\n",
              "   StreamingTV_Yes  StreamingMovies_No  StreamingMovies_No internet service  \\\n",
              "0                0                   1                                    0   \n",
              "1                0                   1                                    0   \n",
              "2                0                   1                                    0   \n",
              "3                0                   1                                    0   \n",
              "4                0                   1                                    0   \n",
              "\n",
              "   StreamingMovies_Yes  Contract_Month-to-month  Contract_One year  \\\n",
              "0                    0                        1                  0   \n",
              "1                    0                        0                  1   \n",
              "2                    0                        1                  0   \n",
              "3                    0                        0                  1   \n",
              "4                    0                        1                  0   \n",
              "\n",
              "   Contract_Two year  PaperlessBilling_No  PaperlessBilling_Yes  \\\n",
              "0                  0                    0                     1   \n",
              "1                  0                    1                     0   \n",
              "2                  0                    0                     1   \n",
              "3                  0                    1                     0   \n",
              "4                  0                    0                     1   \n",
              "\n",
              "   PaymentMethod_Bank transfer (automatic)  \\\n",
              "0                                        0   \n",
              "1                                        0   \n",
              "2                                        0   \n",
              "3                                        1   \n",
              "4                                        0   \n",
              "\n",
              "   PaymentMethod_Credit card (automatic)  PaymentMethod_Electronic check  \\\n",
              "0                                      0                               1   \n",
              "1                                      0                               0   \n",
              "2                                      0                               0   \n",
              "3                                      0                               0   \n",
              "4                                      0                               1   \n",
              "\n",
              "   PaymentMethod_Mailed check    tenure  MonthlyCharges  TotalCharges  \n",
              "0                           0 -1.280248       -1.161694     -0.994194  \n",
              "1                           1  0.064303       -0.260878     -0.173740  \n",
              "2                           1 -1.239504       -0.363923     -0.959649  \n",
              "3                           0  0.512486       -0.747850     -0.195248  \n",
              "4                           0 -1.239504        0.196178     -0.940457  "
            ]
          },
          "metadata": {
            "tags": []
          },
          "execution_count": 54
        }
      ]
    },
    {
      "cell_type": "code",
      "metadata": {
        "colab": {
          "base_uri": "https://localhost:8080/"
        },
        "id": "loving-david",
        "outputId": "0f673512-1b50-4625-93c7-dfc463334c54"
      },
      "source": [
        "data_X.info()"
      ],
      "id": "loving-david",
      "execution_count": 55,
      "outputs": [
        {
          "output_type": "stream",
          "text": [
            "<class 'pandas.core.frame.DataFrame'>\n",
            "RangeIndex: 7032 entries, 0 to 7031\n",
            "Data columns (total 46 columns):\n",
            " #   Column                                   Non-Null Count  Dtype  \n",
            "---  ------                                   --------------  -----  \n",
            " 0   index                                    7032 non-null   int64  \n",
            " 1   SeniorCitizen                            7032 non-null   int64  \n",
            " 2   gender_Female                            7032 non-null   uint8  \n",
            " 3   gender_Male                              7032 non-null   uint8  \n",
            " 4   Partner_No                               7032 non-null   uint8  \n",
            " 5   Partner_Yes                              7032 non-null   uint8  \n",
            " 6   Dependents_No                            7032 non-null   uint8  \n",
            " 7   Dependents_Yes                           7032 non-null   uint8  \n",
            " 8   PhoneService_No                          7032 non-null   uint8  \n",
            " 9   PhoneService_Yes                         7032 non-null   uint8  \n",
            " 10  MultipleLines_No                         7032 non-null   uint8  \n",
            " 11  MultipleLines_No phone service           7032 non-null   uint8  \n",
            " 12  MultipleLines_Yes                        7032 non-null   uint8  \n",
            " 13  InternetService_DSL                      7032 non-null   uint8  \n",
            " 14  InternetService_Fiber optic              7032 non-null   uint8  \n",
            " 15  InternetService_No                       7032 non-null   uint8  \n",
            " 16  OnlineSecurity_No                        7032 non-null   uint8  \n",
            " 17  OnlineSecurity_No internet service       7032 non-null   uint8  \n",
            " 18  OnlineSecurity_Yes                       7032 non-null   uint8  \n",
            " 19  OnlineBackup_No                          7032 non-null   uint8  \n",
            " 20  OnlineBackup_No internet service         7032 non-null   uint8  \n",
            " 21  OnlineBackup_Yes                         7032 non-null   uint8  \n",
            " 22  DeviceProtection_No                      7032 non-null   uint8  \n",
            " 23  DeviceProtection_No internet service     7032 non-null   uint8  \n",
            " 24  DeviceProtection_Yes                     7032 non-null   uint8  \n",
            " 25  TechSupport_No                           7032 non-null   uint8  \n",
            " 26  TechSupport_No internet service          7032 non-null   uint8  \n",
            " 27  TechSupport_Yes                          7032 non-null   uint8  \n",
            " 28  StreamingTV_No                           7032 non-null   uint8  \n",
            " 29  StreamingTV_No internet service          7032 non-null   uint8  \n",
            " 30  StreamingTV_Yes                          7032 non-null   uint8  \n",
            " 31  StreamingMovies_No                       7032 non-null   uint8  \n",
            " 32  StreamingMovies_No internet service      7032 non-null   uint8  \n",
            " 33  StreamingMovies_Yes                      7032 non-null   uint8  \n",
            " 34  Contract_Month-to-month                  7032 non-null   uint8  \n",
            " 35  Contract_One year                        7032 non-null   uint8  \n",
            " 36  Contract_Two year                        7032 non-null   uint8  \n",
            " 37  PaperlessBilling_No                      7032 non-null   uint8  \n",
            " 38  PaperlessBilling_Yes                     7032 non-null   uint8  \n",
            " 39  PaymentMethod_Bank transfer (automatic)  7032 non-null   uint8  \n",
            " 40  PaymentMethod_Credit card (automatic)    7032 non-null   uint8  \n",
            " 41  PaymentMethod_Electronic check           7032 non-null   uint8  \n",
            " 42  PaymentMethod_Mailed check               7032 non-null   uint8  \n",
            " 43  tenure                                   7032 non-null   float64\n",
            " 44  MonthlyCharges                           7032 non-null   float64\n",
            " 45  TotalCharges                             7032 non-null   float64\n",
            "dtypes: float64(3), int64(2), uint8(41)\n",
            "memory usage: 556.4 KB\n"
          ],
          "name": "stdout"
        }
      ]
    },
    {
      "cell_type": "code",
      "metadata": {
        "id": "rubber-trailer"
      },
      "source": [
        "from sklearn.model_selection import train_test_split\n",
        "\n",
        "train_X, test_X, train_Y, test_Y = train_test_split(data_X, data_Y,\n",
        "                                                    test_size=0.2,\n",
        "                                                    shuffle = True,\n",
        "                                                    stratify=data_Y,\n",
        "                                                    random_state=1)"
      ],
      "id": "rubber-trailer",
      "execution_count": 56,
      "outputs": []
    },
    {
      "cell_type": "code",
      "metadata": {
        "id": "guilty-package"
      },
      "source": [
        "train_X = train_X.values\n",
        "train_Y = train_Y.values.ravel()\n",
        "test_X = test_X.values\n",
        "test_Y = test_Y.values.ravel()"
      ],
      "id": "guilty-package",
      "execution_count": 57,
      "outputs": []
    },
    {
      "cell_type": "markdown",
      "metadata": {
        "id": "social-groove"
      },
      "source": [
        "### Neural Network\n",
        "https://scikit-learn.org/stable/modules/neural_networks_supervised.html"
      ],
      "id": "social-groove"
    },
    {
      "cell_type": "code",
      "metadata": {
        "id": "oevzYD_Y2OWI"
      },
      "source": [
        ""
      ],
      "id": "oevzYD_Y2OWI",
      "execution_count": 57,
      "outputs": []
    },
    {
      "cell_type": "code",
      "metadata": {
        "id": "syYP3kSS2OZl"
      },
      "source": [
        ""
      ],
      "id": "syYP3kSS2OZl",
      "execution_count": 57,
      "outputs": []
    },
    {
      "cell_type": "markdown",
      "metadata": {
        "id": "unlikely-conviction"
      },
      "source": [
        "## Keras Neural Network\n",
        "### Keras documentation: https://faroit.com/keras-docs/1.2.0/"
      ],
      "id": "unlikely-conviction"
    },
    {
      "cell_type": "markdown",
      "metadata": {
        "id": "KGnby8atIyiD"
      },
      "source": [
        "#### How to use Free GPU to speed up training time\n",
        "It is so simple to alter default hardware (CPU to GPU or vice versa); just follow **Edit > Notebook settings or Runtime>Change runtime type and select GPU as Hardware accelerator**\n",
        "\n",
        "https://medium.com/deep-learning-turkey/google-colab-free-gpu-tutorial-e113627b9f5d\n"
      ],
      "id": "KGnby8atIyiD"
    },
    {
      "cell_type": "code",
      "metadata": {
        "id": "forward-network"
      },
      "source": [
        "# Import keras model and layers\n",
        "from keras.models import Sequential\n",
        "from keras import layers\n",
        "from keras.layers import InputLayer\n",
        "from keras.layers import Dense\n",
        "from keras.layers import Dropout\n",
        "from keras.constraints import maxnorm\n"
      ],
      "id": "forward-network",
      "execution_count": 58,
      "outputs": []
    },
    {
      "cell_type": "markdown",
      "metadata": {
        "id": "6LP42wpNe6IV"
      },
      "source": [
        "#### Different types of Keras layers explained: https://machinelearningknowledge.ai/different-types-of-keras-layers-explained-for-beginners/\n"
      ],
      "id": "6LP42wpNe6IV"
    },
    {
      "cell_type": "code",
      "metadata": {
        "colab": {
          "base_uri": "https://localhost:8080/"
        },
        "id": "r8hyOnD_qo6R",
        "outputId": "8107c4d2-bc70-4032-b33f-586d7c489f4b"
      },
      "source": [
        "# Shape of our training data\n",
        "Input_Shape = train_X.shape[1]\n",
        "Input_Shape"
      ],
      "id": "r8hyOnD_qo6R",
      "execution_count": 59,
      "outputs": [
        {
          "output_type": "execute_result",
          "data": {
            "text/plain": [
              "46"
            ]
          },
          "metadata": {
            "tags": []
          },
          "execution_count": 59
        }
      ]
    },
    {
      "cell_type": "code",
      "metadata": {
        "id": "eiJo-3nCIaFU"
      },
      "source": [
        "# define the keras model\n",
        "model = Sequential()\n",
        "\n",
        "# Add layers to the neural network\n",
        "\n",
        "# Dense is your regular fully connected NN layer. The first layer of the model contains 16 neurons that take the input from the data and applies the ReLU activation function.\n",
        "# Keras need to know the shape of the data in order to be able to create their weights. \n",
        "model.add(Dense(16, input_dim=train_X.shape[1], activation='relu'))\n",
        "\n",
        "# The second layer contains 8 neurons and also applies the ReLU activation function\n",
        "model.add(Dense(8, activation='relu'))\n",
        "\n",
        "# The third layer contains a single neuron that takes the input form the preceding layer, applies a hard sigmoid activation and gives the classification output as 0 or 1 (Yes/No).\n",
        "model.add(Dense(1, activation='sigmoid'))\n"
      ],
      "id": "eiJo-3nCIaFU",
      "execution_count": 60,
      "outputs": []
    },
    {
      "cell_type": "markdown",
      "metadata": {
        "id": "ZJYANPyL3Dus"
      },
      "source": [
        ""
      ],
      "id": "ZJYANPyL3Dus"
    },
    {
      "cell_type": "code",
      "metadata": {
        "colab": {
          "base_uri": "https://localhost:8080/"
        },
        "id": "5W9H2sYYmGa4",
        "outputId": "74c0d6c5-f0e0-4cc5-87c5-de85e7bf6a41"
      },
      "source": [
        "model.summary()"
      ],
      "id": "5W9H2sYYmGa4",
      "execution_count": 61,
      "outputs": [
        {
          "output_type": "stream",
          "text": [
            "Model: \"sequential_1\"\n",
            "_________________________________________________________________\n",
            "Layer (type)                 Output Shape              Param #   \n",
            "=================================================================\n",
            "dense_3 (Dense)              (None, 16)                752       \n",
            "_________________________________________________________________\n",
            "dense_4 (Dense)              (None, 8)                 136       \n",
            "_________________________________________________________________\n",
            "dense_5 (Dense)              (None, 1)                 9         \n",
            "=================================================================\n",
            "Total params: 897\n",
            "Trainable params: 897\n",
            "Non-trainable params: 0\n",
            "_________________________________________________________________\n"
          ],
          "name": "stdout"
        }
      ]
    },
    {
      "cell_type": "code",
      "metadata": {
        "id": "i-OFup_qOUbr"
      },
      "source": [
        "# compile the keras model\n",
        "model.compile(loss='binary_crossentropy', optimizer='adam', metrics=['accuracy'])"
      ],
      "id": "i-OFup_qOUbr",
      "execution_count": 62,
      "outputs": []
    },
    {
      "cell_type": "markdown",
      "metadata": {
        "id": "nFg6cjGX6b4c"
      },
      "source": [
        "loss='binary_crossentropy': Computes the cross-entropy loss between true labels and predicted labels.\n",
        "\n",
        "Use this cross-entropy loss when there are only two label classes (assumed to be 0 and 1). "
      ],
      "id": "nFg6cjGX6b4c"
    },
    {
      "cell_type": "code",
      "metadata": {
        "colab": {
          "base_uri": "https://localhost:8080/"
        },
        "id": "Ix8UVM8YOUux",
        "outputId": "27ac080c-0364-4ce1-af40-77c1707658da"
      },
      "source": [
        "# Fit the keras model on the dataset. val_accuracy = accuracy on test set. accuracy = accuracy on training data. \n",
        "history = model.fit(train_X, train_Y, \n",
        "            epochs=40, \n",
        "            batch_size=10, \n",
        "            verbose=True,\n",
        "            validation_data=(test_X, test_Y))"
      ],
      "id": "Ix8UVM8YOUux",
      "execution_count": 63,
      "outputs": [
        {
          "output_type": "stream",
          "text": [
            "Epoch 1/40\n",
            "563/563 [==============================] - 2s 3ms/step - loss: 1.4331 - accuracy: 0.6744 - val_loss: 1.8644 - val_accuracy: 0.7392\n",
            "Epoch 2/40\n",
            "563/563 [==============================] - 1s 2ms/step - loss: 1.4742 - accuracy: 0.7173 - val_loss: 1.2799 - val_accuracy: 0.7498\n",
            "Epoch 3/40\n",
            "563/563 [==============================] - 1s 2ms/step - loss: 1.6316 - accuracy: 0.7196 - val_loss: 0.6022 - val_accuracy: 0.7726\n",
            "Epoch 4/40\n",
            "563/563 [==============================] - 1s 2ms/step - loss: 1.3542 - accuracy: 0.7296 - val_loss: 0.5778 - val_accuracy: 0.7790\n",
            "Epoch 5/40\n",
            "563/563 [==============================] - 1s 2ms/step - loss: 1.5030 - accuracy: 0.7208 - val_loss: 1.1070 - val_accuracy: 0.6631\n",
            "Epoch 6/40\n",
            "563/563 [==============================] - 1s 2ms/step - loss: 1.0685 - accuracy: 0.7506 - val_loss: 0.7562 - val_accuracy: 0.7761\n",
            "Epoch 7/40\n",
            "563/563 [==============================] - 1s 2ms/step - loss: 1.5677 - accuracy: 0.7414 - val_loss: 0.7565 - val_accuracy: 0.7804\n",
            "Epoch 8/40\n",
            "563/563 [==============================] - 1s 2ms/step - loss: 1.8068 - accuracy: 0.7356 - val_loss: 0.5774 - val_accuracy: 0.7974\n",
            "Epoch 9/40\n",
            "563/563 [==============================] - 1s 2ms/step - loss: 1.0661 - accuracy: 0.7369 - val_loss: 2.5514 - val_accuracy: 0.7427\n",
            "Epoch 10/40\n",
            "563/563 [==============================] - 1s 2ms/step - loss: 1.3036 - accuracy: 0.7405 - val_loss: 0.9831 - val_accuracy: 0.6780\n",
            "Epoch 11/40\n",
            "563/563 [==============================] - 1s 2ms/step - loss: 1.0407 - accuracy: 0.7450 - val_loss: 1.6572 - val_accuracy: 0.5800\n",
            "Epoch 12/40\n",
            "563/563 [==============================] - 1s 2ms/step - loss: 1.4044 - accuracy: 0.7238 - val_loss: 0.9242 - val_accuracy: 0.7619\n",
            "Epoch 13/40\n",
            "563/563 [==============================] - 1s 2ms/step - loss: 0.9453 - accuracy: 0.7585 - val_loss: 0.7858 - val_accuracy: 0.7640\n",
            "Epoch 14/40\n",
            "563/563 [==============================] - 1s 2ms/step - loss: 0.9120 - accuracy: 0.7546 - val_loss: 0.6031 - val_accuracy: 0.7889\n",
            "Epoch 15/40\n",
            "563/563 [==============================] - 1s 2ms/step - loss: 0.9835 - accuracy: 0.7499 - val_loss: 1.2139 - val_accuracy: 0.6318\n",
            "Epoch 16/40\n",
            "563/563 [==============================] - 1s 2ms/step - loss: 0.9902 - accuracy: 0.7360 - val_loss: 0.6847 - val_accuracy: 0.7726\n",
            "Epoch 17/40\n",
            "563/563 [==============================] - 1s 2ms/step - loss: 0.9808 - accuracy: 0.7505 - val_loss: 0.7624 - val_accuracy: 0.7612\n",
            "Epoch 18/40\n",
            "563/563 [==============================] - 1s 2ms/step - loss: 0.9826 - accuracy: 0.7389 - val_loss: 2.2255 - val_accuracy: 0.7399\n",
            "Epoch 19/40\n",
            "563/563 [==============================] - 1s 2ms/step - loss: 1.1323 - accuracy: 0.7175 - val_loss: 1.7900 - val_accuracy: 0.7420\n",
            "Epoch 20/40\n",
            "563/563 [==============================] - 1s 2ms/step - loss: 1.0909 - accuracy: 0.7418 - val_loss: 1.2516 - val_accuracy: 0.7477\n",
            "Epoch 21/40\n",
            "563/563 [==============================] - 1s 2ms/step - loss: 1.1750 - accuracy: 0.7315 - val_loss: 0.9250 - val_accuracy: 0.6759\n",
            "Epoch 22/40\n",
            "563/563 [==============================] - 1s 2ms/step - loss: 0.8240 - accuracy: 0.7637 - val_loss: 0.6412 - val_accuracy: 0.7832\n",
            "Epoch 23/40\n",
            "563/563 [==============================] - 1s 2ms/step - loss: 0.9599 - accuracy: 0.7522 - val_loss: 0.5732 - val_accuracy: 0.7939\n",
            "Epoch 24/40\n",
            "563/563 [==============================] - 1s 2ms/step - loss: 1.1064 - accuracy: 0.7387 - val_loss: 0.7302 - val_accuracy: 0.7669\n",
            "Epoch 25/40\n",
            "563/563 [==============================] - 1s 2ms/step - loss: 0.8696 - accuracy: 0.7472 - val_loss: 0.6227 - val_accuracy: 0.7896\n",
            "Epoch 26/40\n",
            "563/563 [==============================] - 1s 2ms/step - loss: 0.7691 - accuracy: 0.7650 - val_loss: 1.0743 - val_accuracy: 0.7505\n",
            "Epoch 27/40\n",
            "563/563 [==============================] - 1s 2ms/step - loss: 0.8336 - accuracy: 0.7469 - val_loss: 0.5917 - val_accuracy: 0.7882\n",
            "Epoch 28/40\n",
            "563/563 [==============================] - 1s 2ms/step - loss: 0.9284 - accuracy: 0.7423 - val_loss: 0.5197 - val_accuracy: 0.7697\n",
            "Epoch 29/40\n",
            "563/563 [==============================] - 1s 2ms/step - loss: 0.9578 - accuracy: 0.7398 - val_loss: 0.5568 - val_accuracy: 0.7626\n",
            "Epoch 30/40\n",
            "563/563 [==============================] - 1s 2ms/step - loss: 0.9051 - accuracy: 0.7488 - val_loss: 1.2958 - val_accuracy: 0.7441\n",
            "Epoch 31/40\n",
            "563/563 [==============================] - 1s 2ms/step - loss: 0.7898 - accuracy: 0.7467 - val_loss: 0.5997 - val_accuracy: 0.7441\n",
            "Epoch 32/40\n",
            "563/563 [==============================] - 1s 2ms/step - loss: 0.7691 - accuracy: 0.7482 - val_loss: 0.8715 - val_accuracy: 0.7541\n",
            "Epoch 33/40\n",
            "563/563 [==============================] - 1s 2ms/step - loss: 0.9849 - accuracy: 0.7358 - val_loss: 0.9480 - val_accuracy: 0.6539\n",
            "Epoch 34/40\n",
            "563/563 [==============================] - 1s 2ms/step - loss: 0.8246 - accuracy: 0.7466 - val_loss: 0.5731 - val_accuracy: 0.7896\n",
            "Epoch 35/40\n",
            "563/563 [==============================] - 1s 2ms/step - loss: 0.6878 - accuracy: 0.7640 - val_loss: 0.5681 - val_accuracy: 0.7427\n",
            "Epoch 36/40\n",
            "563/563 [==============================] - 1s 2ms/step - loss: 0.7526 - accuracy: 0.7606 - val_loss: 1.0555 - val_accuracy: 0.7470\n",
            "Epoch 37/40\n",
            "563/563 [==============================] - 1s 2ms/step - loss: 0.7986 - accuracy: 0.7558 - val_loss: 1.1902 - val_accuracy: 0.7456\n",
            "Epoch 38/40\n",
            "563/563 [==============================] - 1s 2ms/step - loss: 0.7372 - accuracy: 0.7554 - val_loss: 0.4874 - val_accuracy: 0.7946\n",
            "Epoch 39/40\n",
            "563/563 [==============================] - 1s 2ms/step - loss: 0.9051 - accuracy: 0.7445 - val_loss: 0.4868 - val_accuracy: 0.7939\n",
            "Epoch 40/40\n",
            "563/563 [==============================] - 1s 2ms/step - loss: 0.8413 - accuracy: 0.7475 - val_loss: 0.6192 - val_accuracy: 0.7242\n"
          ],
          "name": "stdout"
        }
      ]
    },
    {
      "cell_type": "code",
      "metadata": {
        "colab": {
          "base_uri": "https://localhost:8080/"
        },
        "id": "7zXK9bL8NaLq",
        "outputId": "6436bb71-666a-4350-fcd7-26f00ac284da"
      },
      "source": [
        "accuracy = model.evaluate(train_X, train_Y, verbose=False)\n",
        "print(\"Training Score: {:.4f}\".format(accuracy[0]))\n",
        "print(\"Training Accuracy: {:.4f}\".format(accuracy[1]))"
      ],
      "id": "7zXK9bL8NaLq",
      "execution_count": 64,
      "outputs": [
        {
          "output_type": "stream",
          "text": [
            "Training Score: 0.5631\n",
            "Training Accuracy: 0.7511\n"
          ],
          "name": "stdout"
        }
      ]
    },
    {
      "cell_type": "code",
      "metadata": {
        "colab": {
          "base_uri": "https://localhost:8080/"
        },
        "id": "oS_Lk7ZFOwCc",
        "outputId": "c0b66394-4ff8-4049-a50b-8ec8bc493c4f"
      },
      "source": [
        "accuracy = model.evaluate(test_X, test_Y, verbose=False)\n",
        "print(\"Testing Score: {:.4f}\".format(accuracy[0]))\n",
        "print(\"Testing Accuracy: {:.4f}\".format(accuracy[1]))"
      ],
      "id": "oS_Lk7ZFOwCc",
      "execution_count": 65,
      "outputs": [
        {
          "output_type": "stream",
          "text": [
            "Testing Score: 0.6192\n",
            "Testing Accuracy: 0.7242\n"
          ],
          "name": "stdout"
        }
      ]
    },
    {
      "cell_type": "code",
      "metadata": {
        "colab": {
          "base_uri": "https://localhost:8080/",
          "height": 295
        },
        "id": "r6zSXHz2tQYx",
        "outputId": "e884f319-4dee-4ef5-ad6d-59c844f3b2e8"
      },
      "source": [
        "from matplotlib import pyplot as plt\n",
        "plt.plot(history.history['accuracy'])\n",
        "plt.plot(history.history['val_accuracy'])\n",
        "plt.title('Model accuracy')\n",
        "plt.ylabel('accuracy')\n",
        "plt.xlabel('epoch')\n",
        "plt.legend(['train', 'test'], loc='upper left')\n",
        "plt.show()"
      ],
      "id": "r6zSXHz2tQYx",
      "execution_count": 66,
      "outputs": [
        {
          "output_type": "display_data",
          "data": {
            "image/png": "[encoded data removed]",
            "text/plain": [
              "<Figure size 432x288 with 1 Axes>"
            ]
          },
          "metadata": {
            "tags": [],
            "needs_background": "light"
          }
        }
      ]
    },
    {
      "cell_type": "code",
      "metadata": {
        "id": "aQ7T9glb3eWB"
      },
      "source": [
        ""
      ],
      "id": "aQ7T9glb3eWB",
      "execution_count": 66,
      "outputs": []
    }
  ]
}